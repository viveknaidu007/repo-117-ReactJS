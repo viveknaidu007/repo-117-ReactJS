{
 "cells": [
  {
   "cell_type": "code",
   "execution_count": null,
   "metadata": {},
   "outputs": [],
   "source": [
    "# Components : \n",
    "\n",
    "* actually react is an component based"
   ]
  },
  {
   "cell_type": "markdown",
   "metadata": {},
   "source": [
    "![p](img\\img13.png)"
   ]
  },
  {
   "cell_type": "markdown",
   "metadata": {},
   "source": [
    "![p](img\\img11.png)"
   ]
  },
  {
   "cell_type": "markdown",
   "metadata": {},
   "source": [
    "![p](img\\img12.png)"
   ]
  },
  {
   "cell_type": "code",
   "execution_count": null,
   "metadata": {},
   "outputs": [],
   "source": [
    "# types of Componens :\n",
    "\n",
    "\"\"\"\n",
    "* Functional Components\n",
    "* Class Components\n",
    "\"\"\"\n"
   ]
  },
  {
   "cell_type": "code",
   "execution_count": null,
   "metadata": {},
   "outputs": [],
   "source": [
    "#without functions or clASS"
   ]
  },
  {
   "cell_type": "code",
   "execution_count": null,
   "metadata": {
    "vscode": {
     "languageId": "html"
    }
   },
   "outputs": [],
   "source": [
    "import ReactDOM from \"react-dom/client\"; // react DOM\n",
    "import React from \"react\";\n",
    "\n",
    "\n",
    "// \n",
    "const root = ReactDOM.createRoot(document.getElementById(\"root\"));\n",
    "root.render(\n",
    "    <header>\n",
    "        <ul>\n",
    "            <li> home </li>\n",
    "            <li> about </li>\n",
    "            <li> contact us</li>\n",
    "        </ul>\n",
    "    </header>\n",
    ")\n"
   ]
  },
  {
   "cell_type": "code",
   "execution_count": null,
   "metadata": {
    "vscode": {
     "languageId": "html"
    }
   },
   "outputs": [],
   "source": [
    "#with function Components"
   ]
  },
  {
   "cell_type": "code",
   "execution_count": null,
   "metadata": {
    "vscode": {
     "languageId": "html"
    }
   },
   "outputs": [],
   "source": [
    "#using functions:\n",
    "\n",
    "import ReactDOM from \"react-dom/client\"; // react DOM\n",
    "import React from \"react\";\n",
    "\n",
    "\n",
    "// \n",
    "const root = ReactDOM.createRoot(document.getElementById(\"root\"));\n",
    "function Header() {\n",
    "    return (\n",
    "        <header>\n",
    "            <ul>\n",
    "                <li> home </li>\n",
    "                <li> about </li>\n",
    "                <li> contact ua </li>\n",
    "            </ul>\n",
    "        </header>\n",
    "    )\n",
    "}\n",
    "\n",
    "root.render(<Header/>);\n",
    "\n"
   ]
  },
  {
   "cell_type": "code",
   "execution_count": null,
   "metadata": {
    "vscode": {
     "languageId": "html"
    }
   },
   "outputs": [],
   "source": [
    "#ex :\n"
   ]
  },
  {
   "cell_type": "code",
   "execution_count": null,
   "metadata": {
    "vscode": {
     "languageId": "html"
    }
   },
   "outputs": [],
   "source": [
    "\n",
    "import ReactDOM from \"react-dom/client\"; // react DOM\n",
    "import React from \"react\";\n",
    "\n",
    "\n",
    "// \n",
    "const root = ReactDOM.createRoot(document.getElementById(\"root\"));\n",
    "function Header() {\n",
    "    \n",
    "    let menus=[\n",
    "        \"home\",\"about\",\"contactus\"\n",
    "    ]\n",
    "\n",
    "    return  (\n",
    "        <header>\n",
    "            <ul>\n",
    "                <li>{menus[0]}</li>\n",
    "                <li>{menus[1]}</li>\n",
    "                <li>{menus[2]}</li>\n",
    "            </ul>\n",
    "        </header>\n",
    "    )\n",
    "}\n",
    "\n",
    "root.render(<Header />);"
   ]
  },
  {
   "cell_type": "code",
   "execution_count": null,
   "metadata": {
    "vscode": {
     "languageId": "html"
    }
   },
   "outputs": [],
   "source": [
    "# class Components :\n"
   ]
  },
  {
   "cell_type": "code",
   "execution_count": null,
   "metadata": {
    "vscode": {
     "languageId": "html"
    }
   },
   "outputs": [],
   "source": [
    "import ReactDOM from \"react-dom/client\"; // react DOM\n",
    "import React from \"react\";\n",
    "\n",
    "\n",
    "// \n",
    "const root = ReactDOM.createRoot(document.getElementById(\"root\"));\n",
    "\n",
    "class Menu extends React.Component{\n",
    "    render() {\n",
    "        let menas=[\"home\",\"about\",\"contact\"]\n",
    "        return (\n",
    "            <header>\n",
    "                <ul>\n",
    "                    <li> {menas[0]} </li>\n",
    "                    <li> {menas[1]} </li>\n",
    "                    <li> {menas[2]} </li>\n",
    "                </ul>\n",
    "            </header>\n",
    "        )\n",
    "    }\n",
    "}\n",
    "\n",
    "root.render(<Menu/>);\n"
   ]
  }
 ],
 "metadata": {
  "language_info": {
   "name": "python"
  }
 },
 "nbformat": 4,
 "nbformat_minor": 2
}
