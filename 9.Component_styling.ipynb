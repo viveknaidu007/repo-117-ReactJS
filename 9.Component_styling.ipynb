{
 "cells": [
  {
   "cell_type": "code",
   "execution_count": null,
   "metadata": {},
   "outputs": [],
   "source": []
  },
  {
   "cell_type": "code",
   "execution_count": null,
   "metadata": {
    "vscode": {
     "languageId": "html"
    }
   },
   "outputs": [],
   "source": [
    "# App.js \n",
    "\n",
    "import \"./Apps.css\"\n",
    "\n",
    "function App() {\n",
    "  let s1={\n",
    "    background:\"green\",\n",
    "    color:\"white\",\n",
    "    marginTop:\"100px\"\n",
    "  }\n",
    "\n",
    "  return (\n",
    "    <>\n",
    "    <h1 style={s1}> this is heading </h1>\n",
    "    <p> this is paragraph</p>\n",
    "    </>\n",
    "  )\n",
    "}\n",
    "\n",
    "export default App\n",
    "\n",
    "\n",
    "\n",
    "*********************# or *********\n",
    "# we can directly give the styel in the ibject place \n",
    "\n",
    "\n",
    "import \"./App.css\"\n",
    "\n",
    "function App() {\n",
    "  \n",
    "\n",
    "  return (\n",
    "    <>\n",
    "    <h1 style={{\n",
    "    background:\"green\",\n",
    "    color:\"white\",\n",
    "    marginTop:\"100px\"\n",
    "  }}> this is heading </h1>\n",
    "\n",
    "\n",
    "\n",
    "\n",
    "\n",
    "    <p> this is paragraph</p>\n",
    "    </>\n",
    "  )\n",
    "}\n",
    "\n",
    "export default App\n",
    "\n",
    "\n",
    "\n",
    "\n"
   ]
  },
  {
   "cell_type": "code",
   "execution_count": null,
   "metadata": {
    "vscode": {
     "languageId": "html"
    }
   },
   "outputs": [],
   "source": [
    "# ex:\n",
    "\n",
    "# App.js :\n",
    "\n",
    "import \"./App.css\"\n",
    "\n",
    "function App() {\n",
    "  let s1={\n",
    "    background:\"green\",\n",
    "    color:\"white\",\n",
    "    marginTop:\"100px\"\n",
    "  }\n",
    "\n",
    "  return (\n",
    "    <>\n",
    "    <h1 style={s1}> this is heading </h1>\n",
    "    <p> this is paragraph</p>\n",
    "    </>\n",
    "  )\n",
    "}\n",
    "\n",
    "export default App\n",
    "\n",
    "\n",
    "\n",
    "# App.css:\n",
    "\n",
    ".primary{\n",
    "  background-color: blue;\n",
    "  color:aqua;\n",
    "}\n",
    "\n",
    "#heading {\n",
    "  background-color:greenyellow\n",
    "}"
   ]
  },
  {
   "cell_type": "code",
   "execution_count": null,
   "metadata": {
    "vscode": {
     "languageId": "html"
    }
   },
   "outputs": [],
   "source": [
    "# ex :\n",
    "create the gstyle.css in public folder index.html\n",
    "<link rel=\"stylesheet\" href=\"./gstyle.css\">\n",
    "\n",
    "\n",
    "#gstyle.css:\n",
    "\n",
    "h1{\n",
    "    background-color: red;\n",
    "    color:aqua;\n",
    "    \n",
    "}\n",
    "\n",
    "\n",
    "#App.JS:\n",
    "\n",
    "import \"./App.css\"\n",
    "\n",
    "function App() {\n",
    "  \n",
    "  return (\n",
    "    <>\n",
    "    <h1>this is heading </h1>\n",
    "    <p> this is paragraph </p>\n",
    "    </>\n",
    "  )\n",
    "\n",
    "}\n",
    "\n",
    "  \n",
    "\n",
    "export default App\n",
    "\n",
    "\n",
    "# hencee we have globally styles it will overtide , u cab do innspect\n"
   ]
  }
 ],
 "metadata": {
  "language_info": {
   "name": "python"
  }
 },
 "nbformat": 4,
 "nbformat_minor": 2
}
