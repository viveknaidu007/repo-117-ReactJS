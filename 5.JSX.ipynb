{
 "cells": [
  {
   "cell_type": "code",
   "execution_count": null,
   "metadata": {},
   "outputs": [],
   "source": [
    "# JSX\n",
    "\n",
    "# its an syntax extension "
   ]
  },
  {
   "cell_type": "markdown",
   "metadata": {},
   "source": [
    "![p](img\\img8.png)"
   ]
  },
  {
   "cell_type": "markdown",
   "metadata": {},
   "source": [
    "![p](img\\img9.png)"
   ]
  },
  {
   "cell_type": "code",
   "execution_count": null,
   "metadata": {},
   "outputs": [],
   "source": [
    "# render means we r displaying the content "
   ]
  },
  {
   "cell_type": "markdown",
   "metadata": {},
   "source": [
    "![p](img\\img10.png)"
   ]
  },
  {
   "cell_type": "code",
   "execution_count": null,
   "metadata": {},
   "outputs": [],
   "source": []
  },
  {
   "cell_type": "code",
   "execution_count": null,
   "metadata": {
    "vscode": {
     "languageId": "html"
    }
   },
   "outputs": [],
   "source": [
    "import ReactDOM from \"react-dom/client\"; // react DOM\n",
    "import React from \"react\";\n",
    "\n",
    "//\n",
    "let root = ReactDOM.createRoot(document.getElementById(\"root\"));\n",
    "let name = \"vivek telugu\";\n",
    "root.render(name);\n",
    "\n",
    "// \n",
    "\n",
    "root.render(\n",
    "<ul>\n",
    "    <li>vhome</li>\n",
    "    <li>about</li>\n",
    "</ul>)\n",
    "\n",
    "//\n",
    "root.render(\n",
    "    <ul>\n",
    "        <li className=\"test\"> (name) </li>\n",
    "        <li id=\"about\"> about us </li>\n",
    "    </ul>\n",
    ")\n",
    "\n",
    "//\n",
    "function Menu(){\n",
    "    return <h1> hello </h1>\n",
    "}\n",
    "root.render(<Menu></Menu>)\n",
    "\n",
    "//\n",
    "function Nenu(){\n",
    "    return (<div>\n",
    "        <p> para 1</p>\n",
    "        <p> para 2</p>\n",
    "    </div>)\n",
    "}\n",
    "root.render(<Nenu></Nenu>)\n"
   ]
  }
 ],
 "metadata": {
  "language_info": {
   "name": "python"
  }
 },
 "nbformat": 4,
 "nbformat_minor": 2
}
