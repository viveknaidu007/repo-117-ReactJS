{
 "cells": [
  {
   "cell_type": "code",
   "execution_count": null,
   "metadata": {},
   "outputs": [],
   "source": [
    "# Props in react "
   ]
  },
  {
   "cell_type": "code",
   "execution_count": null,
   "metadata": {},
   "outputs": [],
   "source": [
    "# using , src.9.vivek"
   ]
  },
  {
   "cell_type": "code",
   "execution_count": null,
   "metadata": {},
   "outputs": [],
   "source": [
    "# now componeent which we taken , we can place another componeent in it."
   ]
  },
  {
   "cell_type": "code",
   "execution_count": null,
   "metadata": {},
   "outputs": [],
   "source": [
    "# ex: \n",
    "\n",
    "# create User.js in src \n",
    "# User.Js:\n",
    "function User() {\n",
    "    return (\n",
    "        <h1> user name :vivek</h1>\n",
    "    )\n",
    "}\n",
    "\n",
    "export default User\n",
    "\n",
    "\n",
    "\n",
    "# App.Js :\n",
    "import User from \"./User\"\n",
    "\n",
    "function App() {\n",
    "  return (\n",
    "    <User />\n",
    "  )\n",
    "}\n",
    "\n",
    "export default App\n"
   ]
  },
  {
   "cell_type": "code",
   "execution_count": null,
   "metadata": {},
   "outputs": [],
   "source": [
    "#ex :\n",
    "#App.js:\n",
    "\n",
    "function User(props) {\n",
    "    console.log(props)\n",
    "    return (\n",
    "        <div>\n",
    "            <h1> name : {props.name}</h1>\n",
    "            <h2> age : {props.age}</h2>\n",
    "        </div>\n",
    "    )\n",
    "}\n",
    "\n",
    "export default User\n"
   ]
  },
  {
   "cell_type": "code",
   "execution_count": null,
   "metadata": {},
   "outputs": [],
   "source": [
    "#ex:\n",
    "\n",
    "#User.js:\n",
    "\n",
    "function User(props) {\n",
    "    return (\n",
    "        <div>\n",
    "            <h1> name : {props.name}</h1>\n",
    "            <h2> age : {props.age}</h2>\n",
    "            <h2> place : {props.place}</h2>\n",
    "        </div>\n",
    "    )\n",
    "}\n",
    "\n",
    "export default User\n",
    "\n",
    "#App.js:\n",
    "\n",
    "import User from \"./User\"\n",
    "\n",
    "function App() {\n",
    "  return (\n",
    "    <>\n",
    "    <User name=\"vivek\" age=\"25\" place=\"bangalore\" />\n",
    "    <User name=\"tej\" age=\"30\" place=\"chennai\" />\n",
    "\n",
    "    </>\n",
    "  )\n",
    "}\n",
    "\n",
    "export default App"
   ]
  }
 ],
 "metadata": {
  "language_info": {
   "name": "python"
  }
 },
 "nbformat": 4,
 "nbformat_minor": 2
}
