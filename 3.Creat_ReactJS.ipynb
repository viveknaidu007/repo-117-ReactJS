{
 "cells": [
  {
   "cell_type": "code",
   "execution_count": null,
   "metadata": {},
   "outputs": [],
   "source": []
  },
  {
   "cell_type": "code",
   "execution_count": null,
   "metadata": {},
   "outputs": [],
   "source": [
    "# normally we can cdn links for import "
   ]
  },
  {
   "cell_type": "code",
   "execution_count": null,
   "metadata": {},
   "outputs": [],
   "source": [
    "# or "
   ]
  },
  {
   "cell_type": "code",
   "execution_count": null,
   "metadata": {},
   "outputs": [],
   "source": [
    "# we can create React App"
   ]
  },
  {
   "cell_type": "code",
   "execution_count": null,
   "metadata": {},
   "outputs": [],
   "source": [
    "npx create-react-app my-app\n",
    "cd my-app\n",
    "npm start"
   ]
  },
  {
   "cell_type": "code",
   "execution_count": null,
   "metadata": {},
   "outputs": [],
   "source": [
    "# npx means node package executer"
   ]
  },
  {
   "cell_type": "code",
   "execution_count": null,
   "metadata": {},
   "outputs": [],
   "source": [
    "# for creating react app:\n",
    "\n",
    "1. npx create-react-app 3.vivek"
   ]
  },
  {
   "cell_type": "code",
   "execution_count": null,
   "metadata": {},
   "outputs": [],
   "source": [
    "# for starting the app:\n",
    "\n",
    "* npx start"
   ]
  },
  {
   "cell_type": "code",
   "execution_count": null,
   "metadata": {
    "vscode": {
     "languageId": "html"
    }
   },
   "outputs": [],
   "source": [
    "import React from \"react\"\n",
    "import ReactDOM from  \"react-dom/client\"   // react DOM\n",
    "\n",
    "let h1 = React.createElement(\"h1\",{},\"this is h1 tag\")\n",
    "\n",
    "let root = ReactDOM.createRoot(document.getElementById(\"root\"));\n",
    "\n",
    "root.render(<h1>\n",
    "    <div>\n",
    "        <p> this is vivek</p>\n",
    "    </div>\n",
    "</h1>)\n",
    "\n",
    "\n",
    "function test(){\n",
    "\n",
    "}"
   ]
  }
 ],
 "metadata": {
  "language_info": {
   "name": "python"
  }
 },
 "nbformat": 4,
 "nbformat_minor": 2
}
